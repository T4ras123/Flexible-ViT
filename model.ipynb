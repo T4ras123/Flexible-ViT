{
 "cells": [
  {
   "cell_type": "code",
   "execution_count": 1,
   "metadata": {},
   "outputs": [],
   "source": [
    "import torch \n",
    "import torch.nn as nn\n",
    "import torch.functional as F\n",
    "import torchvision\n",
    "import matplotlib.pyplot as plt "
   ]
  },
  {
   "cell_type": "code",
   "execution_count": null,
   "metadata": {},
   "outputs": [],
   "source": [
    "H, W, C = 224, 224, 3 # height x width x channels (3 - red, green, blue)\n",
    "batch_size = 4096\n",
    "P = 16 # resolution of a patch\n",
    "N = H*W/P**2 # Number of patches \n",
    "D = 768 # constant latent layer\n",
    "lr = 2e-4\n",
    "max_iters = 1000000\n",
    "n_layers = 12\n",
    "num_heads = 12\n",
    "head_size = D/num_heads\n",
    "\n",
    "x = torch.randn((H, W, C)) # image representation "
   ]
  },
  {
   "cell_type": "code",
   "execution_count": null,
   "metadata": {},
   "outputs": [],
   "source": [
    "class ViT(nn.Module):\n",
    "    def __init__(self):\n",
    "        super().__init__()\n",
    "        self.embedding = nn.Embedding(C*P**2, D)\n",
    "        self.positional_embedding = nn.Embedding(N+1, D)\n",
    "        self.classification = nn.Linear(N, N+1, bias=False)\n",
    "        self.blocks = nn.Sequential(*[Block() for i in range(n_layers)])\n",
    "        \n",
    "    def forward(self, ix, targets = None):\n",
    "        ix = ix @ self.embedding\n",
    "        pass\n",
    "\n",
    "        \n",
    "            \n",
    "class Block(nn.Module):\n",
    "    def __init__(self) -> None:\n",
    "        super().__init__()\n",
    "        self.sa = MultiHeadAttention(num_heads, head_size)\n",
    "        self.ffwd = FeedForward(D)\n",
    "        self.ln1 = nn.LayerNorm(D)\n",
    "        self.ln2 = nn.LayerNorm(D)\n",
    "\n",
    "    def forward(self, ix):\n",
    "        ix = ix + self.ffwd(self.ln1(ix))\n",
    "        ix = ix + self.sa(self.ln2(ix))\n",
    "        return ix\n",
    "        \n",
    "        \n",
    "    \n",
    "class Head(nn.Module):\n",
    "    def __init__(self):\n",
    "        super().__init__()\n",
    "        self.key = torch.Linear()\n",
    "        self.query = torch.Linear()\n",
    "        self.value = torch.Linear()\n",
    "        self.head_size = head_size\n",
    "        \n",
    "    def forward(self, ix): \n",
    "        k = self.key(ix)\n",
    "        q = self.query(ix)\n",
    "        \n",
    "        wei = q @ k.transpose(-2, -1) * self.head_size**-0.5\n",
    "        wei = F.softmax(wei, dim=-1)\n",
    "        v = self.value(ix)\n",
    "\n",
    "        out = wei @ v\n",
    "        \n",
    "        return out\n",
    "\n",
    "class MultiHeadAttention(nn.Module):\n",
    "    def __init__(self) -> None:\n",
    "        super().__init__()\n",
    "        "
   ]
  }
 ],
 "metadata": {
  "kernelspec": {
   "display_name": "ML",
   "language": "python",
   "name": "python3"
  },
  "language_info": {
   "codemirror_mode": {
    "name": "ipython",
    "version": 3
   },
   "file_extension": ".py",
   "mimetype": "text/x-python",
   "name": "python",
   "nbconvert_exporter": "python",
   "pygments_lexer": "ipython3",
   "version": "3.12.3"
  }
 },
 "nbformat": 4,
 "nbformat_minor": 2
}
